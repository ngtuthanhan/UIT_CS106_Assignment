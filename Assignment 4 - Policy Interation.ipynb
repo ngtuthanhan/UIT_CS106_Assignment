{
  "nbformat": 4,
  "nbformat_minor": 0,
  "metadata": {
    "colab": {
      "name": "20520079.ipynb",
      "provenance": [],
      "collapsed_sections": [],
      "toc_visible": true
    },
    "kernelspec": {
      "name": "python3",
      "display_name": "Python 3"
    },
    "language_info": {
      "name": "python"
    }
  },
  "cells": [
    {
      "cell_type": "markdown",
      "source": [
        "# Thông Tin\n",
        "1. MSSV: 20520079\n",
        "2. Họ và tên: Nguyễn Tư Thành Nhân\n",
        "3. Bài tập: Assignment 4"
      ],
      "metadata": {
        "id": "eXARg5FDkytj"
      }
    },
    {
      "cell_type": "markdown",
      "source": [
        "# Import các thư viện cần thiết"
      ],
      "metadata": {
        "id": "XHwY0DbTkraZ"
      }
    },
    {
      "cell_type": "code",
      "metadata": {
        "id": "yhSyhfEy4XSD"
      },
      "source": [
        "import gym\n",
        "import numpy as np\n",
        "import time\n",
        "from IPython import display"
      ],
      "execution_count": 1,
      "outputs": []
    },
    {
      "cell_type": "markdown",
      "source": [
        "# Một số hàm dùng để chơi game "
      ],
      "metadata": {
        "id": "XSBeVNfypGvF"
      }
    },
    {
      "cell_type": "code",
      "metadata": {
        "id": "VWLnvY7VBvIZ"
      },
      "source": [
        "def play(env, policy, render=False):\n",
        "    state = env.reset()\n",
        "    total_reward = 0\n",
        "    steps = 0\n",
        "    done = False\n",
        "    while not done:\n",
        "        action = policy[state]\n",
        "        next_state, reward, done, info = env.step(action)\n",
        "        total_reward += reward\n",
        "        steps += 1\n",
        "        if render:\n",
        "            env.render()\n",
        "            time.sleep(0.2)\n",
        "            if not done:\n",
        "                display.clear_output(wait=True)\n",
        "        state = next_state\n",
        "\n",
        "    return (total_reward, steps)"
      ],
      "execution_count": 2,
      "outputs": []
    },
    {
      "cell_type": "code",
      "metadata": {
        "id": "JU8Q1qMxD6Po"
      },
      "source": [
        "def play_multiple_times(env, policy, max_episodes):\n",
        "    success = 0\n",
        "    list_of_steps = []\n",
        "    for i in range(max_episodes):\n",
        "        total_reward, steps = play(env, policy)\n",
        "\n",
        "        if total_reward > 0:\n",
        "            success += 1\n",
        "            list_of_steps.append(steps)\n",
        "\n",
        "    print(f'Number of successes: {success}/{max_episodes}')\n",
        "    print(f'Average number of steps: {np.mean(list_of_steps)}')"
      ],
      "execution_count": 3,
      "outputs": []
    },
    {
      "cell_type": "code",
      "metadata": {
        "id": "bSomNpxJE5lP"
      },
      "source": [
        "def policy_evaluation(env, policy, max_iters=500, gamma=0.9):\n",
        "    # Initialize the values of all states to be 0\n",
        "    v_values = np.zeros(env.observation_space.n)\n",
        "\n",
        "    for i in range(max_iters):\n",
        "        prev_v_values = np.copy(v_values)\n",
        "\n",
        "        # Update the value of each state\n",
        "        for state in range(env.observation_space.n):\n",
        "            action = policy[state]\n",
        "\n",
        "            # Compute the q-value of the action\n",
        "            q_value = 0\n",
        "            for prob, next_state, reward, done in env.P[state][action]:\n",
        "                q_value += prob * (reward + gamma * prev_v_values[next_state])\n",
        "\n",
        "            v_values[state] = q_value # update v-value\n",
        "        \n",
        "        # Check convergence\n",
        "        if np.all(np.isclose(v_values, prev_v_values)):\n",
        "            print(f'Converged at {i}-th iteration.')\n",
        "            break\n",
        "    \n",
        "    return v_values"
      ],
      "execution_count": 4,
      "outputs": []
    },
    {
      "cell_type": "markdown",
      "source": [
        "# Cài đặt thuật toán Value Iteration"
      ],
      "metadata": {
        "id": "kf-tutiTnqni"
      }
    },
    {
      "cell_type": "code",
      "metadata": {
        "id": "uh4akjMSHJBF"
      },
      "source": [
        "def value_iteration(env, max_iters=500, gamma=0.9):\n",
        "    # initialize\n",
        "    v_values = np.zeros(env.observation_space.n)\n",
        "\n",
        "    for i in range(max_iters):\n",
        "        prev_v_values = np.copy(v_values)\n",
        "\n",
        "        # update the v-value for each state\n",
        "        for state in range(env.observation_space.n):\n",
        "            q_values = []\n",
        "            \n",
        "            # compute the q-value for each action that we can perform at the state\n",
        "            for action in range(env.action_space.n):\n",
        "                q_value = 0\n",
        "                # loop through each possible outcome\n",
        "                for prob, next_state, reward, done in env.P[state][action]:\n",
        "                    q_value += prob * (reward + gamma * prev_v_values[next_state])\n",
        "                \n",
        "                q_values.append(q_value)\n",
        "            \n",
        "            # select the max q-values\n",
        "            best_action = np.argmax(q_values)\n",
        "            v_values[state] = q_values[best_action]\n",
        "        \n",
        "        # check convergence\n",
        "        if np.all(np.isclose(v_values, prev_v_values)):\n",
        "            print(f'Converged at {i}-th iteration.')\n",
        "            break\n",
        "    \n",
        "    return v_values"
      ],
      "execution_count": 5,
      "outputs": []
    },
    {
      "cell_type": "code",
      "metadata": {
        "id": "jb0an7gaV39e"
      },
      "source": [
        "def policy_extraction(env, v_values, gamma=0.9):\n",
        "    # initialize\n",
        "    policy = np.zeros(env.observation_space.n, dtype=np.int)\n",
        "\n",
        "    # loop through each state in the environment\n",
        "    for state in range(env.observation_space.n):\n",
        "        q_values = []\n",
        "        # loop through each action\n",
        "        for action in range(env.action_space.n):\n",
        "            q_value = 0\n",
        "            # loop each possible outcome\n",
        "            for prob, next_state, reward, done in env.P[state][action]:\n",
        "                q_value += prob * (reward + gamma * v_values[next_state])\n",
        "            \n",
        "            q_values.append(q_value)\n",
        "        \n",
        "        # select the best action\n",
        "        best_action = np.argmax(q_values)\n",
        "        policy[state] = best_action\n",
        "    \n",
        "    return policy"
      ],
      "execution_count": 6,
      "outputs": []
    },
    {
      "cell_type": "markdown",
      "source": [
        "# Cài đặt thuật toán Policy Iteration"
      ],
      "metadata": {
        "id": "QgtPAaUBpZLB"
      }
    },
    {
      "cell_type": "code",
      "source": [
        "def sum_sr(env, V, s, a, gamma):\n",
        "    \"\"\"Calc state-action value for state 's' and action 'a'\"\"\"\n",
        "    tmp = 0  # state value for state s\n",
        "    for p, s_, r, _ in env.P[s][a]:\n",
        "        tmp += p * (r + gamma * V[s_])\n",
        "    return tmp"
      ],
      "metadata": {
        "id": "Y_nQlF3kqB5p"
      },
      "execution_count": 7,
      "outputs": []
    },
    {
      "cell_type": "code",
      "source": [
        "def policy_iteration(env, max_iter = 500, gamma=0.9, theta=1e-8):\n",
        "    # initialization\n",
        "    v_values = np.zeros(env.observation_space.n)\n",
        "    pi = np.zeros(env.observation_space.n, dtype=int)\n",
        "    # policy Evaluation\n",
        "    iter = 0\n",
        "    while iter<max_iter:\n",
        "      iter+=1\n",
        "      while True:\n",
        "        delta = 0\n",
        "        for s in range(env.observation_space.n):\n",
        "          v = v_values[s]\n",
        "          v_values[s] = sum_sr(env,V=v_values, s=s, a=pi[s], gamma=gamma)\n",
        "          delta = max(delta, abs(v-v_values[s]))\n",
        "        if delta < theta: break\n",
        "    # policy Improvement\n",
        "      policy_stable = True\n",
        "      for s in range(env.observation_space.n):\n",
        "        pre_action = pi[s]\n",
        "        pi[s] = np.argmax([sum_sr(env, V=v_values, s=s, a=a, gamma=gamma) for a in range(env.action_space.n)])\n",
        "        if pre_action != pi[s]: policy_stable = False\n",
        "      if policy_stable: \n",
        "        print(f'Converged at {iter}-th iteration.')\n",
        "        break\n",
        "    return v_values, pi"
      ],
      "metadata": {
        "id": "mDw-FpiSpWqP"
      },
      "execution_count": 8,
      "outputs": []
    },
    {
      "cell_type": "markdown",
      "source": [
        "# Thực nghiệm trên FrozenLake-v0"
      ],
      "metadata": {
        "id": "TPtZKx0SqLVn"
      }
    },
    {
      "cell_type": "code",
      "source": [
        "env = gym.make('FrozenLake-v0')\n",
        "print(env.P[0][3])\n",
        "print(env.observation_space.n, env.action_space.n)"
      ],
      "metadata": {
        "colab": {
          "base_uri": "https://localhost:8080/"
        },
        "id": "uvzkmeekqrTc",
        "outputId": "2c69f57d-1f45-4d81-f87f-07ee51f20736"
      },
      "execution_count": 9,
      "outputs": [
        {
          "output_type": "stream",
          "name": "stdout",
          "text": [
            "[(0.3333333333333333, 1, 0.0, False), (0.3333333333333333, 0, 0.0, False), (0.3333333333333333, 0, 0.0, False)]\n",
            "16 4\n"
          ]
        }
      ]
    },
    {
      "cell_type": "code",
      "source": [
        "# Value Iteration\n",
        "optimal_v_values = value_iteration(env, max_iters=500, gamma=0.9)\n",
        "optimal_policy = policy_extraction(env, optimal_v_values)\n",
        "play_multiple_times(env, optimal_policy, 1000)"
      ],
      "metadata": {
        "colab": {
          "base_uri": "https://localhost:8080/"
        },
        "id": "IE_R1nvsremp",
        "outputId": "bfeaca9c-4811-4464-f3f2-a52e43c05018"
      },
      "execution_count": 10,
      "outputs": [
        {
          "output_type": "stream",
          "name": "stdout",
          "text": [
            "Converged at 79-th iteration.\n"
          ]
        },
        {
          "output_type": "stream",
          "name": "stderr",
          "text": [
            "/usr/local/lib/python3.7/dist-packages/ipykernel_launcher.py:3: DeprecationWarning: `np.int` is a deprecated alias for the builtin `int`. To silence this warning, use `int` by itself. Doing this will not modify any behavior and is safe. When replacing `np.int`, you may wish to use e.g. `np.int64` or `np.int32` to specify the precision. If you wish to review your current use, check the release note link for additional information.\n",
            "Deprecated in NumPy 1.20; for more details and guidance: https://numpy.org/devdocs/release/1.20.0-notes.html#deprecations\n",
            "  This is separate from the ipykernel package so we can avoid doing imports until\n"
          ]
        },
        {
          "output_type": "stream",
          "name": "stdout",
          "text": [
            "Number of successes: 713/1000\n",
            "Average number of steps: 37.523141654978964\n"
          ]
        }
      ]
    },
    {
      "cell_type": "code",
      "source": [
        "# Policy Iteration\n",
        "optimal_p_values = policy_iteration(env)[1]\n",
        "play_multiple_times(env, optimal_p_values, 1000)"
      ],
      "metadata": {
        "colab": {
          "base_uri": "https://localhost:8080/"
        },
        "id": "sBLBKAYprCVs",
        "outputId": "45cccd0f-f73b-4844-8fb8-8a40ed7dc961"
      },
      "execution_count": 11,
      "outputs": [
        {
          "output_type": "stream",
          "name": "stdout",
          "text": [
            "Converged at 6-th iteration.\n",
            "Number of successes: 749/1000\n",
            "Average number of steps: 38.23898531375167\n"
          ]
        }
      ]
    },
    {
      "cell_type": "markdown",
      "source": [
        "# Thực nghiệm trên FrozenLake8x8-v0"
      ],
      "metadata": {
        "id": "DsQ-ljq3tDog"
      }
    },
    {
      "cell_type": "code",
      "source": [
        "env = gym.make('FrozenLake8x8-v0')\n",
        "print(env.P[0][3])\n",
        "print(env.observation_space.n, env.action_space.n)"
      ],
      "metadata": {
        "colab": {
          "base_uri": "https://localhost:8080/"
        },
        "id": "_H-N_y5psnwy",
        "outputId": "23b65adc-90f9-4222-8af6-f8f502599db1"
      },
      "execution_count": 12,
      "outputs": [
        {
          "output_type": "stream",
          "name": "stdout",
          "text": [
            "[(0.3333333333333333, 1, 0.0, False), (0.3333333333333333, 0, 0.0, False), (0.3333333333333333, 0, 0.0, False)]\n",
            "64 4\n"
          ]
        }
      ]
    },
    {
      "cell_type": "code",
      "source": [
        "# Value Iteration\n",
        "optimal_v_values = value_iteration(env, max_iters=500, gamma=0.9)\n",
        "optimal_policy = policy_extraction(env, optimal_v_values)\n",
        "play_multiple_times(env, optimal_policy, 1000)"
      ],
      "metadata": {
        "colab": {
          "base_uri": "https://localhost:8080/"
        },
        "id": "RUvEr4W7tSg4",
        "outputId": "3ce8b8a8-6700-4ba3-d327-15554e7ac27c"
      },
      "execution_count": 13,
      "outputs": [
        {
          "output_type": "stream",
          "name": "stdout",
          "text": [
            "Converged at 117-th iteration.\n"
          ]
        },
        {
          "output_type": "stream",
          "name": "stderr",
          "text": [
            "/usr/local/lib/python3.7/dist-packages/ipykernel_launcher.py:3: DeprecationWarning: `np.int` is a deprecated alias for the builtin `int`. To silence this warning, use `int` by itself. Doing this will not modify any behavior and is safe. When replacing `np.int`, you may wish to use e.g. `np.int64` or `np.int32` to specify the precision. If you wish to review your current use, check the release note link for additional information.\n",
            "Deprecated in NumPy 1.20; for more details and guidance: https://numpy.org/devdocs/release/1.20.0-notes.html#deprecations\n",
            "  This is separate from the ipykernel package so we can avoid doing imports until\n"
          ]
        },
        {
          "output_type": "stream",
          "name": "stdout",
          "text": [
            "Number of successes: 754/1000\n",
            "Average number of steps: 72.35809018567639\n"
          ]
        }
      ]
    },
    {
      "cell_type": "code",
      "source": [
        "# Policy Iteration\n",
        "optimal_p_values = policy_iteration(env)[1]\n",
        "play_multiple_times(env, optimal_p_values, 1000)"
      ],
      "metadata": {
        "colab": {
          "base_uri": "https://localhost:8080/"
        },
        "id": "hG-EM5xhtO9j",
        "outputId": "f87dc171-23da-4973-dbc4-6947c63dc511"
      },
      "execution_count": 14,
      "outputs": [
        {
          "output_type": "stream",
          "name": "stdout",
          "text": [
            "Converged at 10-th iteration.\n",
            "Number of successes: 751/1000\n",
            "Average number of steps: 71.72170439414114\n"
          ]
        }
      ]
    },
    {
      "cell_type": "markdown",
      "source": [
        "# Thực nghiệm trên Taxi-v3"
      ],
      "metadata": {
        "id": "nb1zAK1gtUqH"
      }
    },
    {
      "cell_type": "code",
      "source": [
        "env = gym.make('Taxi-v3')\n",
        "print(env.P[0][3])\n",
        "print(env.observation_space.n, env.action_space.n)"
      ],
      "metadata": {
        "colab": {
          "base_uri": "https://localhost:8080/"
        },
        "id": "cyC9aPuhtagt",
        "outputId": "156e14f0-e1be-47d4-850f-d69edac955c4"
      },
      "execution_count": 15,
      "outputs": [
        {
          "output_type": "stream",
          "name": "stdout",
          "text": [
            "[(1.0, 0, -1, False)]\n",
            "500 6\n"
          ]
        }
      ]
    },
    {
      "cell_type": "code",
      "source": [
        "# Value Iteration\n",
        "optimal_v_values = value_iteration(env, max_iters=500, gamma=0.9)\n",
        "optimal_policy = policy_extraction(env, optimal_v_values)\n",
        "play_multiple_times(env, optimal_policy, 1000)"
      ],
      "metadata": {
        "colab": {
          "base_uri": "https://localhost:8080/"
        },
        "id": "aKzI-SR1tgY4",
        "outputId": "568a5774-4dfd-4072-a9ed-565937c289d9"
      },
      "execution_count": 16,
      "outputs": [
        {
          "output_type": "stream",
          "name": "stdout",
          "text": [
            "Converged at 116-th iteration.\n"
          ]
        },
        {
          "output_type": "stream",
          "name": "stderr",
          "text": [
            "/usr/local/lib/python3.7/dist-packages/ipykernel_launcher.py:3: DeprecationWarning: `np.int` is a deprecated alias for the builtin `int`. To silence this warning, use `int` by itself. Doing this will not modify any behavior and is safe. When replacing `np.int`, you may wish to use e.g. `np.int64` or `np.int32` to specify the precision. If you wish to review your current use, check the release note link for additional information.\n",
            "Deprecated in NumPy 1.20; for more details and guidance: https://numpy.org/devdocs/release/1.20.0-notes.html#deprecations\n",
            "  This is separate from the ipykernel package so we can avoid doing imports until\n"
          ]
        },
        {
          "output_type": "stream",
          "name": "stdout",
          "text": [
            "Number of successes: 1000/1000\n",
            "Average number of steps: 13.204\n"
          ]
        }
      ]
    },
    {
      "cell_type": "code",
      "source": [
        "# Policy Iteration\n",
        "optimal_p_values = policy_iteration(env)[1]\n",
        "play_multiple_times(env, optimal_p_values, 1000)"
      ],
      "metadata": {
        "colab": {
          "base_uri": "https://localhost:8080/"
        },
        "id": "W23buTXUtfat",
        "outputId": "cba38199-d07d-4fab-d347-576f93477b29"
      },
      "execution_count": 17,
      "outputs": [
        {
          "output_type": "stream",
          "name": "stdout",
          "text": [
            "Converged at 28-th iteration.\n",
            "Number of successes: 1000/1000\n",
            "Average number of steps: 13.129\n"
          ]
        }
      ]
    },
    {
      "cell_type": "markdown",
      "source": [
        "# Nhận xét: \n",
        "- Về số ván thắng và số bước để chiến thắng của 2 thuật toán Value Iteration và Policy Iteration trên cả 3 map là tương đương nhau\n",
        "- Về số lần lặp thì Policy Iteration cho tốc độ hội tụ nhanh hơn so với Value Iteration"
      ],
      "metadata": {
        "id": "a15ICS7ytrRZ"
      }
    }
  ]
}